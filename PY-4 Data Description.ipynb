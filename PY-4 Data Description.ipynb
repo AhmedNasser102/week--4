{
  "nbformat": 4,
  "nbformat_minor": 0,
  "metadata": {
    "colab": {
      "name": "Untitled3.ipynb",
      "provenance": []
    },
    "kernelspec": {
      "name": "python3",
      "display_name": "Python 3"
    }
  },
  "cells": [
    {
      "cell_type": "markdown",
      "metadata": {
        "id": "79bp_YC0VqZN",
        "colab_type": "text"
      },
      "source": [
        "## Data Description:\n",
        "\n",
        "Data Link: https://en.wikipedia.org/wiki/List_of_postal_codes_of_Canada:_M \n",
        "\n",
        "Will use Scarborough dataset which we scrapped from wikipedia on Week 3.\n",
        "\n",
        "\n",
        "\n",
        "## Foursquare API Data:\n",
        "\n",
        "We will need data about different venues in different neighborhoods.\n",
        "In order to gain that information we will use \"Foursquare\" locational information. Foursquare is a location data provider with information about all manner of venues and events within an area of interest. Such information includes venue names, locations, menus and even photos. As such, the foursquare location platform will be used as the sole data source since all the stated required information can be obtained through the API. \n",
        "\n",
        "The data retrieved from Foursquare contained information of venues within a specified distance of the longitude and latitude of the postcodes. The information obtained per venue as follows:\n",
        "Neighborhood\n",
        "Neighborhood Latitude\n",
        "Neighborhood Longitude\n"
      ]
    }
  ]
}